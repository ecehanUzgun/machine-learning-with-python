{
 "cells": [
  {
   "cell_type": "markdown",
   "id": "ff868074-74a0-49f7-b516-e394cac2209b",
   "metadata": {},
   "source": [
    "# Sınıflandırma ile Boy, Kilo ve Yaşa Göre Cinsiyet Tahmini"
   ]
  },
  {
   "cell_type": "markdown",
   "id": "299a17b7-e56a-4704-ae22-4bd6465e2d8d",
   "metadata": {},
   "source": [
    "# Lazy vs Eager Learning\n",
    "- __Lazy Learning:__ Tahmin zamanı geldiğinde öğrenme yapan, ezberci ve veri temelli yaklaşım.\n",
    "- __Eager Learning:__ Önceden öğrenen, genelleme yapabilen ve model oluşturan yaklaşım.\n",
    "|Özellik |Lazy Learning |Eager Learning |\n",
    "|:-----|:----:|----:|\n",
    "|Öğrenme Zamanı | Tahmin sırasında |Eğitim sırasında |\n",
    "|Performans |Tahminde yavaştır |Tahminde hızlıdır |\n",
    "|Hafıza Kullanımı |Daha fazla (veriyi saklar) |Daha az|\n",
    "|Örnek Algoritma |KNN |Decision Tree, Naive Bayes, SVM|\n",
    "\n",
    "# Algoritmalara Uygulama\n",
    "|Algoritma |Türü |Neden? |\n",
    "|:-----|:----:|----:|\n",
    "|KNN | Lazy |Eğitimde model kurmaz, tüm veriyi saklar |\n",
    "|Naive Bayes |Eager |Eğitimde olasılıkları hesaplayarak model kurar |\n",
    "|Decision Tree |Eager |Eğitim sırasında karar yapısını inşa eder|\n",
    "|SVM |Eager |Marjin ve destek vektörlerini optimize eder|\n",
    "|Neural Network | Eager | Ağırlıkları eğitim sırasında öğrenir| "
   ]
  },
  {
   "cell_type": "code",
   "execution_count": 3,
   "id": "075ac57a-9181-4187-8845-54f7e7ebd4f6",
   "metadata": {},
   "outputs": [
    {
     "name": "stdout",
     "output_type": "stream",
     "text": [
      "   ulke  boy  kilo  yas cinsiyet\n",
      "0    tr  130    30   10        e\n",
      "1    tr  125    36   11        e\n",
      "2    tr  135    34   10        k\n",
      "3    tr  133    30    9        k\n",
      "4    tr  129    38   12        e\n",
      "5    tr  180    90   30        e\n",
      "6    tr  190    80   25        e\n",
      "7    tr  175    90   35        e\n",
      "8    tr  177    60   22        k\n",
      "9    us  185   105   33        e\n",
      "10   us  165    55   27        k\n",
      "11   us  155    50   44        k\n",
      "12   us  160    58   39        k\n",
      "13   us  162    59   41        k\n",
      "14   us  167    62   55        k\n",
      "15   fr  174    70   47        e\n",
      "16   fr  193    90   23        e\n",
      "17   fr  187    80   27        e\n",
      "18   fr  183    88   28        e\n",
      "19   fr  159    40   29        k\n",
      "20   fr  164    66   32        k\n",
      "21   fr  166    56   42        k\n"
     ]
    }
   ],
   "source": [
    "#1. Kutuphaneler\n",
    "import numpy as np \n",
    "import pandas as pd \n",
    "import matplotlib.pyplot as plt\n",
    "\n",
    "#2. Veri Onisleme\n",
    "#2.1 Veri Yukleme\n",
    "veriler = pd.read_csv('veriler.csv')\n",
    "print(veriler)"
   ]
  },
  {
   "cell_type": "markdown",
   "id": "fbc1715f-f411-4490-9cf6-59123106d8bf",
   "metadata": {},
   "source": [
    "# Independent Variables"
   ]
  },
  {
   "cell_type": "code",
   "execution_count": 4,
   "id": "aa32825c-6358-4a37-8d83-20572d298047",
   "metadata": {},
   "outputs": [
    {
     "name": "stdout",
     "output_type": "stream",
     "text": [
      "[[130  30  10]\n",
      " [125  36  11]\n",
      " [135  34  10]\n",
      " [133  30   9]\n",
      " [129  38  12]\n",
      " [180  90  30]\n",
      " [190  80  25]\n",
      " [175  90  35]\n",
      " [177  60  22]\n",
      " [185 105  33]\n",
      " [165  55  27]\n",
      " [155  50  44]\n",
      " [160  58  39]\n",
      " [162  59  41]\n",
      " [167  62  55]\n",
      " [174  70  47]\n",
      " [193  90  23]\n",
      " [187  80  27]\n",
      " [183  88  28]\n",
      " [159  40  29]\n",
      " [164  66  32]\n",
      " [166  56  42]]\n"
     ]
    }
   ],
   "source": [
    "x = veriler.iloc[:,1:4].values # bağımsız değişkenler -> Boy, Kilo, Yas\n",
    "print(x)"
   ]
  },
  {
   "cell_type": "markdown",
   "id": "1d227a2e-9be1-4ad4-bbcb-e2032869efc5",
   "metadata": {},
   "source": [
    "# Dependent Variables"
   ]
  },
  {
   "cell_type": "code",
   "execution_count": 5,
   "id": "2f571cdf-c132-49da-8475-a7b6f7377473",
   "metadata": {},
   "outputs": [
    {
     "name": "stdout",
     "output_type": "stream",
     "text": [
      "[['e']\n",
      " ['e']\n",
      " ['k']\n",
      " ['k']\n",
      " ['e']\n",
      " ['e']\n",
      " ['e']\n",
      " ['e']\n",
      " ['k']\n",
      " ['e']\n",
      " ['k']\n",
      " ['k']\n",
      " ['k']\n",
      " ['k']\n",
      " ['k']\n",
      " ['e']\n",
      " ['e']\n",
      " ['e']\n",
      " ['e']\n",
      " ['k']\n",
      " ['k']\n",
      " ['k']]\n"
     ]
    }
   ],
   "source": [
    "y = veriler.iloc[:,4:].values # bağımlı değişkenler -> Cinsiyet\n",
    "print(y)"
   ]
  },
  {
   "cell_type": "code",
   "execution_count": 6,
   "id": "bc9ae819-9a1a-46ab-9068-337e18a6b8d5",
   "metadata": {},
   "outputs": [
    {
     "name": "stdout",
     "output_type": "stream",
     "text": [
      "Cinsiyet dağılımı:\n",
      "e    11\n",
      "k    11\n",
      "Name: count, dtype: int64\n"
     ]
    }
   ],
   "source": [
    "# Kız ve Erkek Sayısı\n",
    "# y: 2D numpy array -> önce 1D hale getir\n",
    "y_flat = y.ravel()\n",
    "\n",
    "# Pandas serisine dönüştür ve say\n",
    "counts = pd.Series(y_flat).value_counts()\n",
    "\n",
    "print(f\"Cinsiyet dağılımı:\\n{counts}\")"
   ]
  },
  {
   "cell_type": "code",
   "execution_count": 7,
   "id": "90bb1981-a64e-4fe7-b4cc-a045e08c1577",
   "metadata": {},
   "outputs": [
    {
     "data": {
      "image/png": "[encoded data removed]",
      "text/plain": [
       "<Figure size 640x480 with 1 Axes>"
      ]
     },
     "metadata": {},
     "output_type": "display_data"
    }
   ],
   "source": [
    "counts.plot(kind='pie', labels=['Erkek', 'Kız'], autopct='%1.1f%%', startangle=90)\n",
    "plt.title(\"Cinsiyet Dağılımı\")\n",
    "plt.ylabel(\"\")  # Y ekseni etiketi gizlensin\n",
    "plt.show()"
   ]
  },
  {
   "cell_type": "markdown",
   "id": "b2e0469b-d5dc-4d9a-a744-c38adbc2041b",
   "metadata": {},
   "source": [
    "# Train/Test Split"
   ]
  },
  {
   "cell_type": "code",
   "execution_count": 8,
   "id": "919ea00a-3f01-4222-b116-00ce5fabbf2b",
   "metadata": {},
   "outputs": [],
   "source": [
    "# from sklearn.cross_validation import train_test_split\n",
    "# Bu satır eskiden (Scikit-Learn < 0.18 versiyonunda) kullanılıyordu.\n",
    "# cross_validation modülü Scikit-learn 0.18'de deprecated (kullanımdan kaldırıldı) ve daha sonra tamamen silindi."
   ]
  },
  {
   "cell_type": "code",
   "execution_count": 9,
   "id": "7c9e6cc2-a00c-4ca4-919f-2a001197fda1",
   "metadata": {},
   "outputs": [
    {
     "name": "stdout",
     "output_type": "stream",
     "text": [
      "X Train\n",
      "[[177  60  22]\n",
      " [190  80  25]\n",
      " [193  90  23]\n",
      " [129  38  12]\n",
      " [135  34  10]\n",
      " [180  90  30]\n",
      " [187  80  27]\n",
      " [185 105  33]\n",
      " [175  90  35]\n",
      " [183  88  28]\n",
      " [133  30   9]\n",
      " [130  30  10]\n",
      " [174  70  47]\n",
      " [160  58  39]]\n",
      "X Test\n",
      "[[164  66  32]\n",
      " [165  55  27]\n",
      " [167  62  55]\n",
      " [162  59  41]\n",
      " [125  36  11]\n",
      " [166  56  42]\n",
      " [155  50  44]\n",
      " [159  40  29]]\n",
      "Y Train\n",
      "[['k']\n",
      " ['e']\n",
      " ['e']\n",
      " ['e']\n",
      " ['k']\n",
      " ['e']\n",
      " ['e']\n",
      " ['e']\n",
      " ['e']\n",
      " ['e']\n",
      " ['k']\n",
      " ['e']\n",
      " ['e']\n",
      " ['k']]\n",
      "Y Test\n",
      "[['k']\n",
      " ['k']\n",
      " ['k']\n",
      " ['k']\n",
      " ['e']\n",
      " ['k']\n",
      " ['k']\n",
      " ['k']]\n"
     ]
    }
   ],
   "source": [
    "from sklearn.model_selection import train_test_split\n",
    "x_train, x_test, y_train, y_test = train_test_split(x,y,test_size=0.33, random_state=0) \n",
    "# X: [BOY KİLO YAŞ]\n",
    "# Y: Cinsiyet, e:erkek k:kadın \n",
    "print(f\"X Train\\n{x_train}\")\n",
    "print(f\"X Test\\n{x_test}\")\n",
    "print(f\"Y Train\\n{y_train}\")\n",
    "print(f\"Y Test\\n{y_test}\")"
   ]
  },
  {
   "cell_type": "code",
   "execution_count": 10,
   "id": "4d78f0f5-a0c3-4eca-9b0a-8a626db86c24",
   "metadata": {},
   "outputs": [
    {
     "name": "stdout",
     "output_type": "stream",
     "text": [
      "Eğitim Verisi Cinsiyet Dağılımı:\n",
      "e    10\n",
      "k     4\n",
      "Name: count, dtype: int64\n"
     ]
    }
   ],
   "source": [
    "y_flat_train = y_train.ravel()\n",
    "\n",
    "# Pandas serisine dönüştür ve say\n",
    "counts_train = pd.Series(y_flat_train).value_counts()\n",
    "\n",
    "print(f\"Eğitim Verisi Cinsiyet Dağılımı:\\n{counts_train}\")"
   ]
  },
  {
   "cell_type": "code",
   "execution_count": 11,
   "id": "0a4ec2c5-1448-4b5f-8f25-7151532a7a07",
   "metadata": {},
   "outputs": [
    {
     "data": {
      "image/png": "[encoded data removed]",
      "text/plain": [
       "<Figure size 640x480 with 1 Axes>"
      ]
     },
     "metadata": {},
     "output_type": "display_data"
    }
   ],
   "source": [
    "counts_train.plot(kind='pie', labels=['Erkek', 'Kız'], autopct='%1.1f%%', startangle=90)\n",
    "plt.title(\"Eğitim Verisi Cinsiyet Dağılımı\")\n",
    "plt.ylabel(\"\")  # Y ekseni etiketi gizlensin\n",
    "plt.show()"
   ]
  },
  {
   "cell_type": "markdown",
   "id": "7e89c1c3-8e3a-4e10-9195-2cbed5dab97e",
   "metadata": {},
   "source": [
    "# Feature Scaling"
   ]
  },
  {
   "cell_type": "code",
   "execution_count": 12,
   "id": "87dd89f7-7842-414b-a28e-0e4a806a9f90",
   "metadata": {},
   "outputs": [
    {
     "name": "stdout",
     "output_type": "stream",
     "text": [
      "X Train\n",
      "[[ 0.45049444 -0.29657884 -0.26680787]\n",
      " [ 1.00824945  0.5096549   0.        ]\n",
      " [ 1.13696215  0.91277178 -0.17787191]\n",
      " [-1.6089087  -1.18343596 -1.15616745]\n",
      " [-1.35148331 -1.34468271 -1.33403936]\n",
      " [ 0.57920713  0.91277178  0.44467979]\n",
      " [ 0.87953676  0.5096549   0.17787191]\n",
      " [ 0.79372829  1.51744708  0.71148766]\n",
      " [ 0.36468597  0.91277178  0.88935957]\n",
      " [ 0.70791983  0.8321484   0.26680787]\n",
      " [-1.43729177 -1.50592946 -1.42297532]\n",
      " [-1.56600447 -1.50592946 -1.33403936]\n",
      " [ 0.32178174  0.10653803  1.95659106]\n",
      " [-0.27887751 -0.37720222  1.2451034 ]]\n",
      "X Test\n",
      "[[ 0.47240026  1.32853794 -0.24991255]\n",
      " [ 0.54952683  0.20439045 -0.64977262]\n",
      " [ 0.70377998  0.91975703  1.58944379]\n",
      " [ 0.31814711  0.61317136  0.46983559]\n",
      " [-2.53553608 -1.73731884 -1.92932485]\n",
      " [ 0.6266534   0.30658568  0.5498076 ]\n",
      " [-0.2217389  -0.30658568  0.70975163]\n",
      " [ 0.08676739 -1.32853794 -0.48982859]]\n"
     ]
    }
   ],
   "source": [
    "\"\"\"\n",
    "Verilerin Olceklenmesi (Feature Scaling)\n",
    "    - Farkli olceklerdeki degiskenleri ayni araliga getirerek modelin daha dengeli ve dogru ogrenmesini saglayan bir on isleme adimidir.\n",
    "fit_transform() metodu, x_train verisi uzerinde once fit (ogrenme) islemi yapar, ardindan transform (olcekleme) islemini uygular.\n",
    "\"\"\"\n",
    "from sklearn.preprocessing import StandardScaler \n",
    "\n",
    "sc = StandardScaler() #Ortalama (mean) degeri 0, standart sapması 1 olacak sekilde olcekleme yapar.\n",
    "\n",
    "X_train = sc.fit_transform(x_train)\n",
    "X_test = sc.fit_transform(x_test)\n",
    "# X_test = sc.transform(x_test)\n",
    "print(f\"X Train\\n{X_train}\")\n",
    "print(f\"X Test\\n{X_test}\")"
   ]
  },
  {
   "cell_type": "markdown",
   "id": "e5d579d8-c0cd-4e40-8a2c-a25ca43ebda0",
   "metadata": {},
   "source": [
    "# SINIFLANDIRMA ALGORİTMALARI\n",
    "## Logistic Regression"
   ]
  },
  {
   "cell_type": "code",
   "execution_count": 13,
   "id": "4c862645-afc7-423b-8d0f-726d03f6ee57",
   "metadata": {},
   "outputs": [
    {
     "name": "stdout",
     "output_type": "stream",
     "text": [
      "X Test Değerleri\n",
      " [[164  66  32]\n",
      " [165  55  27]\n",
      " [167  62  55]\n",
      " [162  59  41]\n",
      " [125  36  11]\n",
      " [166  56  42]\n",
      " [155  50  44]\n",
      " [159  40  29]]\n",
      "Y Tahmin Değerleri\n",
      " ['e' 'e' 'e' 'e' 'k' 'e' 'e' 'k']\n",
      "Y Test Değerleri\n",
      " [['k']\n",
      " ['k']\n",
      " ['k']\n",
      " ['k']\n",
      " ['e']\n",
      " ['k']\n",
      " ['k']\n",
      " ['k']]\n"
     ]
    }
   ],
   "source": [
    "from sklearn.linear_model import LogisticRegression\n",
    "logr = LogisticRegression(random_state=0)\n",
    "logr.fit(X_train,y_train.ravel()) #egitim\n",
    "\n",
    "y_pred = logr.predict(X_test) #tahmin\n",
    "print(f\"X Test Değerleri\\n {x_test}\")\n",
    "print(f\"Y Tahmin Değerleri\\n {y_pred}\")\n",
    "print(f\"Y Test Değerleri\\n {y_test}\")"
   ]
  },
  {
   "cell_type": "markdown",
   "id": "f4b371c2-04f1-45a1-abd6-f3a168ea348c",
   "metadata": {},
   "source": [
    "# Confusion Matrix"
   ]
  },
  {
   "cell_type": "code",
   "execution_count": 14,
   "id": "0e547232-792a-4a6d-9648-0b0f1c7c361e",
   "metadata": {},
   "outputs": [
    {
     "name": "stdout",
     "output_type": "stream",
     "text": [
      "[[0 1]\n",
      " [6 1]]\n"
     ]
    }
   ],
   "source": [
    "from sklearn.metrics import confusion_matrix\n",
    "# Karmaşıklık Matrisi\n",
    "cm = confusion_matrix(y_test,y_pred)\n",
    "print(cm)"
   ]
  },
  {
   "cell_type": "markdown",
   "id": "afa90f4d-9dff-44b1-9c3c-e196a4ce6fe8",
   "metadata": {},
   "source": [
    "# KNN\n",
    "1. Eğitim Aşamasında (fit):\n",
    "    - Verileri sadece hafızaya alır, hiçbir matematiksel model ya da hipotez üretmez.\n",
    "    - model.fit(X_train,y_train)\n",
    "2. Tahmin Aşamasında (predict):\n",
    "    - Yeni bir x' noktası geldiğinde:\n",
    "        - Tüm eğitim verisi ile mesafeleri hesaplar.\n",
    "        - En yakın k komşuyu bulur.\n",
    "        - Onların etiketlerine bakarak tahmin yapar.\n",
    "- Yani KNN'in öğrenmesi, tahmin anında gerçekleşir."
   ]
  },
  {
   "cell_type": "code",
   "execution_count": 15,
   "id": "fed4c71b-b8bd-4510-9432-af528df46572",
   "metadata": {},
   "outputs": [
    {
     "name": "stdout",
     "output_type": "stream",
     "text": [
      "[[1 0]\n",
      " [4 3]]\n"
     ]
    }
   ],
   "source": [
    "from sklearn.neighbors import KNeighborsClassifier\n",
    "#knn = KNeighborsClassifier(n_neighbors=5, metric='minkowski')\n",
    "knn = KNeighborsClassifier(n_neighbors=1, metric='minkowski')\n",
    "knn.fit(X_train,y_train.ravel())\n",
    "# DataConversionWarning: A column-vector y was passed when a 1d array was expected. Please change the shape of y to (n_samples,), for example using ravel().\n",
    "\n",
    "y_pred = knn.predict(X_test)\n",
    "cmKnn = confusion_matrix(y_test,y_pred)\n",
    "print(cmKnn)"
   ]
  },
  {
   "cell_type": "markdown",
   "id": "5720f436-d49e-45ab-aa89-172ff48bcbfd",
   "metadata": {},
   "source": [
    "# Support Vector Classification"
   ]
  },
  {
   "cell_type": "markdown",
   "id": "f78d6ffd-1a1f-4671-b34a-a0d5a449fdfb",
   "metadata": {},
   "source": [
    "## Doğrusal Olarak Ayrılamayan (Linearly Non-Separable) Problemler İçin SVM Nasıl Çalışır?\n",
    "## **Kernel Trick (Çekirdek Hilesi)**\n",
    "\n",
    "### Kernel Türleri\n",
    "|Kernel Türü |Açıklama |Ne zaman kullanılır? |\n",
    "|:-----|:----:|----:|\n",
    "|Linear |Veriler doğrusal olarak ayrılabiliyorsa |Basit veri setleri |\n",
    "|Polynomial |Veriler çok boyutlu ve doğrusal olmayan yapıda |Karmaşık ilişkiler |\n",
    "|RBF (Gaussian) |En yaygın olan, dairesel dağılımda |İç içe geçmiş sınıflar |\n",
    "|Sigmoid |Neural network benzeri yapılarda |Nadiren kullanılır |"
   ]
  },
  {
   "cell_type": "code",
   "execution_count": 16,
   "id": "ab8f4d2d-19a5-46bd-8a70-6128f6a4fbec",
   "metadata": {},
   "outputs": [
    {
     "name": "stdout",
     "output_type": "stream",
     "text": [
      "Normal (non-weighted) SVM\n",
      " [[1 0]\n",
      " [6 1]]\n",
      "Weighted SVM\n",
      "[[0 1]\n",
      " [4 3]]\n"
     ]
    }
   ],
   "source": [
    "from sklearn.svm import SVC\n",
    "from sklearn.model_selection import GridSearchCV\n",
    "\n",
    "# SVC\n",
    "# RBF bir kernel fonksiyonu olduğu için, bu doğrudan \"kernel trick\" kullanımıdır.\n",
    "# Yani bu kod, veriyi yüksek boyutlu bir uzaya taşıyıp orada doğrusal bir ayırıcı düzlem bulmaya çalışır.\n",
    "svc = SVC(kernel='rbf') # kernel: 'linear', 'poly', 'rbf', 'sigmoid'\n",
    "svc.fit(X_train,y_train.ravel())\n",
    "y_pred = svc.predict(X_test)\n",
    "# Confusion Matrix\n",
    "cmSVC = confusion_matrix(y_test,y_pred)\n",
    "print(f'Normal (non-weighted) SVM\\n {cmSVC}')\n",
    "\n",
    "# Weighted SVC Model\n",
    "model = SVC(kernel = 'rbf', class_weight = 'balanced') # sınıflar dengesizse (örneğin 90% 0 – 10% 1 gibi), algoritmanın azınlık sınıfına daha fazla önem vermesini sağlar.\n",
    "model.fit(X_train,y_train.ravel())\n",
    "y_model_pred = model.predict(X_test)\n",
    "model_cmSVC = confusion_matrix(y_test,y_model_pred)\n",
    "print(f'Weighted SVM\\n{model_cmSVC}')"
   ]
  },
  {
   "cell_type": "markdown",
   "id": "367583d6-2b52-4a8f-929e-f7f6e7f7ffb3",
   "metadata": {},
   "source": [
    "### SVC modelinde en iyi hiperparametre kombinasyonunu otomatik olarak nasıl bulunur?"
   ]
  },
  {
   "cell_type": "code",
   "execution_count": 17,
   "id": "c498e0de-1234-45bd-87e2-858a11b4a8a8",
   "metadata": {},
   "outputs": [
    {
     "name": "stdout",
     "output_type": "stream",
     "text": [
      "\n",
      "Kernel: linear\n",
      "Accuracy: 0.125\n",
      "Confusion Matrix:\n",
      "[[0 1]\n",
      " [6 1]]\n",
      "\n",
      "Kernel: poly\n",
      "Accuracy: 0.0\n",
      "Confusion Matrix:\n",
      "[[0 1]\n",
      " [7 0]]\n",
      "\n",
      "Kernel: rbf\n",
      "Accuracy: 0.25\n",
      "Confusion Matrix:\n",
      "[[1 0]\n",
      " [6 1]]\n",
      "\n",
      "Kernel: sigmoid\n",
      "Accuracy: 0.125\n",
      "Confusion Matrix:\n",
      "[[0 1]\n",
      " [6 1]]\n"
     ]
    }
   ],
   "source": [
    "# 1. YÖNTEM\n",
    "from sklearn.metrics import accuracy_score, confusion_matrix\n",
    "\n",
    "kernels = ['linear', 'poly', 'rbf', 'sigmoid']\n",
    "results = {} # Dictionary: key-value (anahtar-değer)\n",
    "for k in kernels:\n",
    "    model = SVC(kernel=k)\n",
    "    model.fit(X_train, y_train.ravel()) #Eğitme\n",
    "    y_pred = model.predict(X_test) #Tahmin\n",
    "    acc = accuracy_score(y_test, y_pred) #Başarı Ölçme\n",
    "    cm = confusion_matrix(y_test, y_pred) #Karmaşıklık Matrisi Oluşturma\n",
    "\n",
    "    # Nested Dictionary: İç İçe Geçmiş Sözlük\n",
    "    results[k] = {\n",
    "        'accuracy': acc, # Doğruluk Oranı: Tüm tahminler içindeki doğru tahminlerin oranıdır.\n",
    "        'confusion_matrix': cm\n",
    "    }\n",
    "    # print(results[k]['accuracy'])\n",
    "    # print(results[k]['confusion_matrix'])\n",
    "\n",
    "for k, v in results.items():\n",
    "    print(f\"\\nKernel: {k}\")\n",
    "    print(f\"Accuracy: {v['accuracy']}\")\n",
    "    print(f\"Confusion Matrix:\")\n",
    "    print(v['confusion_matrix'])"
   ]
  },
  {
   "cell_type": "code",
   "execution_count": 18,
   "id": "077a2dd0-ffac-4693-a0e2-6713908b7c5a",
   "metadata": {},
   "outputs": [
    {
     "name": "stdout",
     "output_type": "stream",
     "text": [
      "\n",
      "Kernel: linear\n",
      "Accuracy: 0.25\n",
      "Confusion Matrix:\n",
      "[[0 1]\n",
      " [5 2]]\n",
      "\n",
      "Kernel: poly\n",
      "Accuracy: 0.0\n",
      "Confusion Matrix:\n",
      "[[0 1]\n",
      " [7 0]]\n",
      "\n",
      "Kernel: rbf\n",
      "Accuracy: 0.375\n",
      "Confusion Matrix:\n",
      "[[0 1]\n",
      " [4 3]]\n",
      "\n",
      "Kernel: sigmoid\n",
      "Accuracy: 0.25\n",
      "Confusion Matrix:\n",
      "[[0 1]\n",
      " [5 2]]\n"
     ]
    }
   ],
   "source": [
    "# Weighted Hali\n",
    "from sklearn.metrics import accuracy_score, confusion_matrix\n",
    "\n",
    "kernels = ['linear', 'poly', 'rbf', 'sigmoid']\n",
    "results = {} # Dictionary: key-value (anahtar-değer)\n",
    "for k in kernels:\n",
    "    model = SVC(kernel=k, class_weight='balanced') # model, sınıf frekansına göre otomatik ağırlık verir.\n",
    "    model.fit(X_train, y_train.ravel()) #Eğitme\n",
    "    y_pred = model.predict(X_test) #Tahmin\n",
    "    acc = accuracy_score(y_test, y_pred) #Başarı Ölçme\n",
    "    cm = confusion_matrix(y_test, y_pred) #Karmaşıklık Matrisi Oluşturma\n",
    "\n",
    "    # Nested Dictionary: İç İçe Geçmiş Sözlük\n",
    "    results[k] = {\n",
    "        'accuracy': acc, # Doğruluk Oranı: Tüm tahminler içindeki doğru tahminlerin oranıdır.\n",
    "        'confusion_matrix': cm\n",
    "    }\n",
    "    # print(results[k]['accuracy'])\n",
    "    # print(results[k]['confusion_matrix'])\n",
    "\n",
    "for k, v in results.items():\n",
    "    print(f\"\\nKernel: {k}\")\n",
    "    print(f\"Accuracy: {v['accuracy']}\")\n",
    "    print(f\"Confusion Matrix:\")\n",
    "    print(v['confusion_matrix'])"
   ]
  },
  {
   "cell_type": "code",
   "execution_count": 19,
   "id": "d9b7247c-cf47-4baf-925c-868ba40d849c",
   "metadata": {},
   "outputs": [
    {
     "name": "stdout",
     "output_type": "stream",
     "text": [
      "En iyi kernel {'C': 0.1, 'gamma': 'scale', 'kernel': 'rbf'}\n",
      "En iyi skor 0.7166666666666667\n"
     ]
    }
   ],
   "source": [
    "# 2. YÖNTEM\n",
    "#GridSearchCV: Tüm olası hiperparametre kombinasyonlarını tarayarak en iyi sonucu veren kombinasyonu bulmak için kullanılır.\n",
    "#Kernel türlerinin deneneceği parametreler\n",
    "param_grid = {\n",
    "    'kernel': ['linear','poly','rbf','sigmoid'],\n",
    "    'C': [0.1, 1, 10], # Ceza parametresi (regularization), düşük C -> daha fazla tolerans -> underfitting riski, yüksek C -> daha az tolerans -> overfitting riski\n",
    "    'gamma': ['scale', 'auto'] # Her noktanın etkisinin ne kadar yayıldığını kontrol eder.\n",
    "}\n",
    "#GridSearch: kernel parametresi için 4 farklı değeri denedi, 3 katlı cross-validation uyguladı, scoring='accuracy' doğru tahmin oranı\n",
    "grid = GridSearchCV(SVC(), param_grid, cv=3, scoring='accuracy')\n",
    "# cv = 3 -> veri 3 parçaya bölünüyor, her seferinde 2'si eğitim 1'i test oluyor.\n",
    "grid.fit(X_train, y_train.ravel())\n",
    "print(f\"En iyi kernel {grid.best_params_}\")\n",
    "print(f\"En iyi skor {grid.best_score_}\")\n",
    "\n",
    "# İlerleyen projelerde Cross-Validation detaylı olarak açıklanacak!"
   ]
  },
  {
   "cell_type": "markdown",
   "id": "5dd8bb54-9758-463f-87eb-378501c3ead2",
   "metadata": {},
   "source": [
    "# Naive Bayes"
   ]
  },
  {
   "cell_type": "code",
   "execution_count": 20,
   "id": "c82891de-4b7d-4df0-95be-d7371ee63e9a",
   "metadata": {},
   "outputs": [
    {
     "name": "stdout",
     "output_type": "stream",
     "text": [
      "Gaussian Naive Bayes\n",
      " [[0 1]\n",
      " [6 1]]\n"
     ]
    }
   ],
   "source": [
    "from sklearn.naive_bayes import GaussianNB\n",
    "gnb = GaussianNB()\n",
    "gnb.fit(X_train, y_train.ravel())\n",
    "y_pred = gnb.predict(X_test)\n",
    "cm = confusion_matrix(y_test,y_pred)\n",
    "print(f\"Gaussian Naive Bayes\\n {cm}\")"
   ]
  },
  {
   "cell_type": "markdown",
   "id": "0f4736e2-1685-45ed-8645-503221ed6230",
   "metadata": {},
   "source": [
    "|Sınıf |Veri Türü |Kullanım Alanı |\n",
    "|:-----|:----:|----:|\n",
    "|GaussianNB |Sürekli Sayılar |Sayısal Veri -> Iris, sağlık, ölçüm |\n",
    "|BernoulliNB |Binary (0/1) |Kelime var/yok -> Spam tespiti|\n",
    "|ComplementNB |Frekans + dengesiz sınıflar |NLP, çok sınıflı metin verisi |\n",
    "|MultinomialNB |Frekans (sayılar) |NLP, duygu analizi, haber sınıflama |\n",
    "|CategoricalNB | Kategorik (etiketli) veriler | Yaş = genç, Kredi notu = iyi vb. |"
   ]
  },
  {
   "cell_type": "markdown",
   "id": "a03dcbf5-f1a7-4766-b3cb-9a0b18e1087d",
   "metadata": {},
   "source": [
    "## Decision Tree"
   ]
  },
  {
   "cell_type": "code",
   "execution_count": 21,
   "id": "896011bf-dc00-4a95-b591-dc705d1c265b",
   "metadata": {},
   "outputs": [
    {
     "name": "stdout",
     "output_type": "stream",
     "text": [
      "DTC\n",
      "[[1 0]\n",
      " [5 2]]\n"
     ]
    }
   ],
   "source": [
    "from sklearn.tree import DecisionTreeClassifier\n",
    "dtc = DecisionTreeClassifier(criterion = 'entropy')\n",
    "dtc.fit(X_train,y_train)\n",
    "y_pred = dtc.predict(X_test)\n",
    "\n",
    "cm = confusion_matrix(y_test,y_pred)\n",
    "print('DTC')\n",
    "print(cm)"
   ]
  },
  {
   "cell_type": "code",
   "execution_count": 22,
   "id": "d59038c0-ee2f-4dec-89fe-e022484b4c2c",
   "metadata": {},
   "outputs": [
    {
     "data": {
      "image/png": "[encoded data removed]",
      "text/plain": [
       "<Figure size 1200x800 with 1 Axes>"
      ]
     },
     "metadata": {},
     "output_type": "display_data"
    }
   ],
   "source": [
    "from sklearn.tree import plot_tree\n",
    "feature_names = veriler.columns.tolist()[1:4]\n",
    "class_names = ['erkek', 'kadın']\n",
    "plt.figure(figsize=(12, 8))\n",
    "plot_tree(dtc, filled=True, feature_names=feature_names, class_names=class_names)\n",
    "plt.show()"
   ]
  },
  {
   "cell_type": "code",
   "execution_count": 23,
   "id": "25c76c44-b0f5-43ab-8f61-38d4d40e9925",
   "metadata": {},
   "outputs": [
    {
     "name": "stdout",
     "output_type": "stream",
     "text": [
      "(14, 3)\n",
      "<class 'numpy.ndarray'>\n",
      "['ulke', 'boy', 'kilo', 'yas', 'cinsiyet']\n"
     ]
    }
   ],
   "source": [
    "print(X_train.shape)\n",
    "print(type(X_train))\n",
    "#feature_names = [\"ulke\",\"boy\",\"kilo\",\"yas\"]\n",
    "feature_names = veriler.columns.tolist()\n",
    "print(feature_names)"
   ]
  },
  {
   "cell_type": "markdown",
   "id": "da216279-f856-454d-b883-ee73cc64c0ee",
   "metadata": {},
   "source": [
    "## Random Forest"
   ]
  },
  {
   "cell_type": "code",
   "execution_count": 32,
   "id": "4534bfc2-01cc-4636-9156-7186dbb6bfe7",
   "metadata": {},
   "outputs": [
    {
     "name": "stdout",
     "output_type": "stream",
     "text": [
      "RFC\n",
      "[[1 0]\n",
      " [6 1]]\n"
     ]
    }
   ],
   "source": [
    "from sklearn.ensemble import RandomForestClassifier\n",
    "rfc = RandomForestClassifier(n_estimators=10, criterion='entropy')\n",
    "rfc.fit(X_train,y_train.ravel())\n",
    "#ravel():\n",
    "y_pred = rfc.predict(X_test)\n",
    "cm = confusion_matrix(y_test,y_pred)\n",
    "print(\"RFC\")\n",
    "print(cm)"
   ]
  },
  {
   "cell_type": "markdown",
   "id": "9adc6dbc-6896-41f1-ab2a-d784ee4fc101",
   "metadata": {},
   "source": [
    "### ROC, TPR, FPR DEĞERLERİ"
   ]
  },
  {
   "cell_type": "code",
   "execution_count": 33,
   "id": "735eddc5-701d-46bf-a3ab-a0446eeebbfe",
   "metadata": {},
   "outputs": [
    {
     "name": "stdout",
     "output_type": "stream",
     "text": [
      "[['k']\n",
      " ['k']\n",
      " ['k']\n",
      " ['k']\n",
      " ['e']\n",
      " ['k']\n",
      " ['k']\n",
      " ['k']]\n",
      "[0.6 0.6 0.9 0.9 0.7 0.9 0.4 0.6]\n",
      "[0.         0.42857143 0.42857143 0.85714286 1.        ]\n",
      "[0. 0. 1. 1. 1.]\n"
     ]
    }
   ],
   "source": [
    "y_proba = rfc.predict_proba(X_test)\n",
    "print(y_test)\n",
    "print(y_proba[:,0])\n",
    "\n",
    "from sklearn import metrics\n",
    "fpr, tpr, thold = metrics.roc_curve(y_test,y_proba[:,0],pos_label='e')\n",
    "print(fpr)\n",
    "print(tpr)"
   ]
  },
  {
   "cell_type": "code",
   "execution_count": null,
   "id": "235e62d9-1037-4d46-9c47-8f9fa90203b0",
   "metadata": {},
   "outputs": [],
   "source": []
  }
 ],
 "metadata": {
  "kernelspec": {
   "display_name": "Python 3 (ipykernel)",
   "language": "python",
   "name": "python3"
  },
  "language_info": {
   "codemirror_mode": {
    "name": "ipython",
    "version": 3
   },
   "file_extension": ".py",
   "mimetype": "text/x-python",
   "name": "python",
   "nbconvert_exporter": "python",
   "pygments_lexer": "ipython3",
   "version": "3.12.7"
  }
 },
 "nbformat": 4,
 "nbformat_minor": 5
}
