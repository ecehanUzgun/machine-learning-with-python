{
 "cells": [
  {
   "cell_type": "code",
   "execution_count": 4,
   "id": "01edf24b-f2ed-4127-85e7-1ecfbfa63740",
   "metadata": {},
   "outputs": [],
   "source": [
    "import pandas as pd\n",
    "# mlxtend: machine learning extensions\n",
    "# TransactionEncoder alışveriş sepeti gibi liste şeklindeki verileri [['milk', 'bread'], ['bread']] binary tabloya çevirir.\n",
    "from mlxtend.preprocessing import TransactionEncoder \n",
    "# apriori: Sık geçen ürün gruplarını (frequent itemsets) bulmak için kullanılan bir fonksiyondur.\n",
    "# association_rules: Bu sık gruplardan anlamlı ilişki kuralları (X->Y) üreten bir fonksiyondur.\n",
    "# Örneğin, {milk, bread} sık geçiyor milk->bread kuralı çıkarılabilir.\n",
    "from mlxtend.frequent_patterns import apriori, association_rules\n",
    "# Logging: Uygulama içinde hata ve bilgi mesajlarını loglamak (kaydetmek) için kullanılır.\n",
    "import logging"
   ]
  },
  {
   "cell_type": "markdown",
   "id": "a35338bb-d29e-4d0c-a772-d7c2c759d921",
   "metadata": {},
   "source": [
    "|Yapı |Örnek |Terim|\n",
    "|:-----|----|----:|\n",
    "|Modül | `mlxtend.frequent_patterns` |Python modülü (module)|\n",
    "|Fonksiyon | `apriori()`,`association_rules()` |Python fonksiyonu (function)|\n",
    "|Paket | `mlxtend` |Python paketi (package)|\n",
    "|Kütüphane | `mlxtend` |Python kütüphanesi (library)|\n",
    "\n",
    "- **Paket:** Birden fazla modülü içeren Python klasörüdür.\n",
    "- **Modül:** Bir veya birkaç fonksiyon, sınıf ve değişken içeren `.py` uzantılı Python dosyasıdır.\n",
    "- **Kütüphane:** Belirli bir amacı gerçekleştirmek için hazırlanmış, modül ve paketlerden oluşan bütün yapıdır.\n",
    "- **Fonksiyon:** Belirli bir işlemi gerçekleştiren, çağrılabilir kod bloğudur."
   ]
  },
  {
   "cell_type": "code",
   "execution_count": 5,
   "id": "c675d399-c232-4983-abc3-c620840d8539",
   "metadata": {},
   "outputs": [],
   "source": [
    "# 1. Veri Yükleme ve Ön İşleme\n",
    "def load_transactions(csv_path):\n",
    "    try:\n",
    "        df = pd.read_csv(csv_path, header=None) #header=None: Veri dosyasında sütun başlığı olmadığı için \n",
    "        # Satırları listeye çevirme, her satır bir alışverişi (transaction) temsil eder.\n",
    "        transactions = df.apply( # Pandas DataFrame'inin (df) her satırı için bir işlem yapar.\n",
    "            lambda row: [str(item).strip().lower() for item in row if pd.notnull(item)],\n",
    "            axis=1 # satır bazlı işlem demektir (yani her alışveriş sepeti bir satırdır).\n",
    "        ).tolist() \n",
    "        return transactions\n",
    "    except Exception as e:\n",
    "        logging.error(f\"Veri okunamadı: {e}\") # Hata `logging` modülüyle kaydedilir (terminalde veya log dosyasında görünür).\n",
    "        return [] # Fonksiyon boş liste döndürür ki sonraki adımlar çökmesin."
   ]
  },
  {
   "cell_type": "markdown",
   "id": "b38b809e-c9f4-4b18-a05f-401c36799e34",
   "metadata": {},
   "source": [
    "## transactions\n",
    "- `df.apply(..., axis=1)`: pandas DataFrame'in her satırını tek tek işler. Her satır bir pandas `Series` objesi olarak `lambda` fonksiyonuna gönderilir.\n",
    "- `row` her bir satırı temsil eder.\n",
    "- `row` içindeki tüm ürünler:\n",
    "    - `str(item)`: Sayı bile olsa stringe çevrilir\n",
    "    - `.strip()`: Kenarlardaki boşluklar temizlenir.\n",
    "    - `.lower()`: Küçük harfe çevrilir (\"Milk\" ≠ \"milk\" problemi önlenir).\n",
    "    - `if pd.notnull(item)`: Boş hücreler atılır (CSV boşlukları `NaN` olur).\n",
    "- `lambda row: [str(item).strip().lower() for item in row if pd.notnull(item)]` list comprehension (liste oluşturma) yapısıdır. Okuma sırası:\n",
    "1. `for item in row`\n",
    "2. `if pd.notnull(item)` # Eğer item boş değilse (NaN) değilse\n",
    "3. `str(item).strip().lower()` # Temizlenmiş string olarak listeye ekle\n",
    "- Yani önce döngü, sonra koşul, sonra dönüştürme işlemi çalışır.\n",
    "- Örnek:\n",
    "    - \" Milk \", \"BREAD\", None\n",
    "    - -> [\"milk\", \"bread\"]"
   ]
  },
  {
   "cell_type": "code",
   "execution_count": 6,
   "id": "d2464fbf-1eb0-4798-b661-3ae1dd507128",
   "metadata": {},
   "outputs": [],
   "source": [
    "# 2. One-Hot Encoding\n",
    "def preprocess_transactions(transactions):\n",
    "    te = TransactionEncoder() # TransactionEncoder() sınıfından bir nesne oluştur (mlxtend kütüphanesinden)\n",
    "    te_array = te.fit(transactions).transform(transactions) # Ürün isimlerini öğren ve sepet verilerini 0/1 (True/False) matrise çevir\n",
    "    df_transformed = pd.DataFrame(te_array, columns=te.columns_) # Elde edilen matrisi pandas DataFrame'e dönüştür, sütun adları ürün isimleri\n",
    "    return df_transformed # Sonuç olarak one-hot encoded veri çerçevesini (0/1 tablosu) döndür"
   ]
  },
  {
   "cell_type": "markdown",
   "id": "13e97f02-ed41-4691-ae29-efdc12edb461",
   "metadata": {},
   "source": [
    "## One-Hot Encoding\n",
    "- transactions = [['milk','bread'],['bread']]\n",
    "- preprocess_transactions(transactions) fonksiyonu çalıştıktan sonra\n",
    "- df_transformed =\n",
    "| |bread |milk|\n",
    "|:-----|----|----:|\n",
    "|0 |True |True|\n",
    "|1 |True |False|\n",
    "- Bu çıktı, her müşterinin hangi ürünü alıp almadığını binary formatta gösterir. Bu format, Apriori Algoritması için gereklidir."
   ]
  },
  {
   "cell_type": "code",
   "execution_count": 7,
   "id": "ff97b7ab-a51f-41b4-b5fc-839a711a5d45",
   "metadata": {},
   "outputs": [],
   "source": [
    "# 3. Apriori Uygulama\n",
    "# Apriori Algoritmasını Çalıştır:\n",
    "# df_transformed: one-hot encoded veri (0/1) tablosu\n",
    "# min_support: en az yüzde kaç destek alan ürün grupları alınsın?\n",
    "# use_colnames=True: sonuçlarda ürün indeksleri yerine isimlerini göster\n",
    "def run_apriori(df_transformed, min_support=0.02):\n",
    "    frequent_itemsets = apriori(df_transformed, min_support=min_support, use_colnames=True)\n",
    "    return frequent_itemsets # Sık geçen ürün kümelerini (itemset'leri) içeren tabloyu döndür."
   ]
  },
  {
   "cell_type": "code",
   "execution_count": 8,
   "id": "1bd0ebd6-799c-420d-bf11-a4754e65dfe4",
   "metadata": {},
   "outputs": [],
   "source": [
    "# 4. Kuralların Çıkarılması\n",
    "def extract_rules(frequent_itemsets, min_confidence=0.3, min_lift=1.2):\n",
    "    # Apriori algoritması sonucu bulunan sık itemset'lerden ilişki kuralları üret\n",
    "    # metric=\"lift\": kural gücünü değerlendirmek için lift kullanılır\n",
    "    # min_threshold=min_lift: lift için eşik belirlenir.\n",
    "    rules = association_rules(frequent_itemsets, metric=\"lift\", min_threshold=min_lift)\n",
    "    # Üretilen kurallar arasından güven (confidence) ve lift değeri yeterli olanları filtrele\n",
    "    filtered_rules = rules[\n",
    "        (rules['confidence'] >= min_confidence) &\n",
    "        (rules['lift'] >= min_lift)\n",
    "    ]\n",
    "\n",
    "    # Geriye sadece anlamlı olan kuralların temel metrikleri döndürülür:\n",
    "    # antecedents: Eğer kısmı (X → Y kuralındaki X)\n",
    "    # consequents: Sonuç kısmı (X → Y kuralındaki Y)\n",
    "    # support, confidence, lift: değerlendirme metrikleri\n",
    "    return filtered_rules[['antecedents', 'consequents', 'support', 'confidence', 'lift']]"
   ]
  },
  {
   "cell_type": "code",
   "execution_count": 9,
   "id": "8e32bdcd-4846-4b43-bcc8-59bff487482a",
   "metadata": {},
   "outputs": [],
   "source": [
    "# Ana Çalıştırma Fonksiyonu\n",
    "def main(csv_path):\n",
    "    # 1. Veriyi CSV'den oku ve her satırı bir alışveriş sepetine çevir (liste listesi)\n",
    "    transactions = load_transactions(csv_path)\n",
    "    # 2. Sepet verisini 0/1 formatına (one-hot encoding) dönüştür\n",
    "    df_trans = preprocess_transactions(transactions)\n",
    "    # 3. Apriori algoritmasını kullanarak sık geçen ürün kümelerini (itemset) bul\n",
    "    itemsets = run_apriori(df_trans, min_support=0.02)\n",
    "    # 4. Bu sık kümelerden ilişki kurallarını çıkar ve filtrele (confidence ve lift'e göre)\n",
    "    rules = extract_rules(itemsets, min_confidence=0.3, min_lift=1.2)\n",
    "    # 5. Anlamlı kuralları döndür\n",
    "    return rules"
   ]
  },
  {
   "cell_type": "code",
   "execution_count": 10,
   "id": "4e5ced4b-5d6a-4b73-bf01-dfb5f1dd4dc1",
   "metadata": {},
   "outputs": [
    {
     "name": "stdout",
     "output_type": "stream",
     "text": [
      "            antecedents      consequents   support  confidence      lift\n",
      "0             (burgers)           (eggs)  0.028796    0.330275  1.837830\n",
      "6                (cake)  (mineral water)  0.027463    0.338816  1.421397\n",
      "8             (chicken)  (mineral water)  0.022797    0.380000  1.594172\n",
      "18          (chocolate)  (mineral water)  0.052660    0.321400  1.348332\n",
      "22        (cooking oil)  (mineral water)  0.020131    0.394256  1.653978\n",
      "34    (frozen smoothie)  (mineral water)  0.020264    0.320000  1.342461\n",
      "38  (frozen vegetables)  (mineral water)  0.035729    0.374825  1.572463\n",
      "44        (ground beef)  (mineral water)  0.040928    0.416554  1.747522\n",
      "46        (ground beef)      (spaghetti)  0.039195    0.398915  2.291162\n",
      "48     (low fat yogurt)  (mineral water)  0.023997    0.313589  1.315565\n",
      "51               (milk)  (mineral water)  0.047994    0.370370  1.553774\n",
      "54          (olive oil)  (mineral water)  0.027596    0.419028  1.757904\n",
      "57           (pancakes)  (mineral water)  0.033729    0.354839  1.488616\n",
      "58             (shrimp)  (mineral water)  0.023597    0.330224  1.385352\n",
      "61               (soup)  (mineral water)  0.023064    0.456464  1.914955\n",
      "63          (spaghetti)  (mineral water)  0.059725    0.343032  1.439085\n",
      "65           (tomatoes)  (mineral water)  0.024397    0.356725  1.496530\n",
      "67   (whole wheat rice)  (mineral water)  0.020131    0.343964  1.442993\n",
      "68          (olive oil)      (spaghetti)  0.022930    0.348178  1.999758\n",
      "75           (tomatoes)      (spaghetti)  0.020931    0.306043  1.757755\n"
     ]
    }
   ],
   "source": [
    "# Kod bu dosya çalıştırıldığında aktif olur.\n",
    "if __name__ == \"__main__\": #Kod hem modül olarak başka yerden çağrılabilir, hem de doğrudan terminalden çalıştırılabilir olur.\n",
    "    csv_dosya = \"sepet.csv\"\n",
    "    anlamli_kurallar = main(csv_dosya)\n",
    "    print(anlamli_kurallar)\n",
    "    anlamli_kurallar.to_csv(\"anlamli_kurallar.csv\",index=False)\n",
    "\n",
    "# if __name__ == \"__main__\": bloğu eğer başka bir Python dosyasından import edilirse çalışmaz.\n",
    "# Başka dosyada import edilirse; sadece fonksiyonlar çalışır, otomatik işlem yapılmaz."
   ]
  },
  {
   "cell_type": "code",
   "execution_count": 11,
   "id": "a38c5ad9-5d52-4613-b6ab-d46e8627da97",
   "metadata": {},
   "outputs": [],
   "source": [
    "# TODO: OOP prensiplerine uygun hale getirilecek."
   ]
  }
 ],
 "metadata": {
  "kernelspec": {
   "display_name": "Python 3 (ipykernel)",
   "language": "python",
   "name": "python3"
  },
  "language_info": {
   "codemirror_mode": {
    "name": "ipython",
    "version": 3
   },
   "file_extension": ".py",
   "mimetype": "text/x-python",
   "name": "python",
   "nbconvert_exporter": "python",
   "pygments_lexer": "ipython3",
   "version": "3.12.7"
  }
 },
 "nbformat": 4,
 "nbformat_minor": 5
}
