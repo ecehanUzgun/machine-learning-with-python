{
 "cells": [
  {
   "cell_type": "code",
   "execution_count": 5,
   "id": "eb53ac91-a64c-4c4b-aef7-c8138e78791e",
   "metadata": {},
   "outputs": [
    {
     "name": "stdout",
     "output_type": "stream",
     "text": [
      "Requirement already satisfied: mlxtend in c:\\users\\eceha\\anaconda3\\lib\\site-packages (0.23.4)\n",
      "Requirement already satisfied: scipy>=1.2.1 in c:\\users\\eceha\\anaconda3\\lib\\site-packages (from mlxtend) (1.13.1)\n",
      "Requirement already satisfied: numpy>=1.16.2 in c:\\users\\eceha\\anaconda3\\lib\\site-packages (from mlxtend) (1.26.4)\n",
      "Requirement already satisfied: pandas>=0.24.2 in c:\\users\\eceha\\anaconda3\\lib\\site-packages (from mlxtend) (2.2.2)\n",
      "Requirement already satisfied: scikit-learn>=1.3.1 in c:\\users\\eceha\\anaconda3\\lib\\site-packages (from mlxtend) (1.5.1)\n",
      "Requirement already satisfied: matplotlib>=3.0.0 in c:\\users\\eceha\\anaconda3\\lib\\site-packages (from mlxtend) (3.9.2)\n",
      "Requirement already satisfied: joblib>=0.13.2 in c:\\users\\eceha\\anaconda3\\lib\\site-packages (from mlxtend) (1.4.2)\n",
      "Requirement already satisfied: contourpy>=1.0.1 in c:\\users\\eceha\\anaconda3\\lib\\site-packages (from matplotlib>=3.0.0->mlxtend) (1.2.0)\n",
      "Requirement already satisfied: cycler>=0.10 in c:\\users\\eceha\\anaconda3\\lib\\site-packages (from matplotlib>=3.0.0->mlxtend) (0.11.0)\n",
      "Requirement already satisfied: fonttools>=4.22.0 in c:\\users\\eceha\\anaconda3\\lib\\site-packages (from matplotlib>=3.0.0->mlxtend) (4.51.0)\n",
      "Requirement already satisfied: kiwisolver>=1.3.1 in c:\\users\\eceha\\anaconda3\\lib\\site-packages (from matplotlib>=3.0.0->mlxtend) (1.4.4)\n",
      "Requirement already satisfied: packaging>=20.0 in c:\\users\\eceha\\anaconda3\\lib\\site-packages (from matplotlib>=3.0.0->mlxtend) (24.1)\n",
      "Requirement already satisfied: pillow>=8 in c:\\users\\eceha\\anaconda3\\lib\\site-packages (from matplotlib>=3.0.0->mlxtend) (10.4.0)\n",
      "Requirement already satisfied: pyparsing>=2.3.1 in c:\\users\\eceha\\anaconda3\\lib\\site-packages (from matplotlib>=3.0.0->mlxtend) (3.1.2)\n",
      "Requirement already satisfied: python-dateutil>=2.7 in c:\\users\\eceha\\anaconda3\\lib\\site-packages (from matplotlib>=3.0.0->mlxtend) (2.9.0.post0)\n",
      "Requirement already satisfied: pytz>=2020.1 in c:\\users\\eceha\\anaconda3\\lib\\site-packages (from pandas>=0.24.2->mlxtend) (2024.1)\n",
      "Requirement already satisfied: tzdata>=2022.7 in c:\\users\\eceha\\anaconda3\\lib\\site-packages (from pandas>=0.24.2->mlxtend) (2023.3)\n",
      "Requirement already satisfied: threadpoolctl>=3.1.0 in c:\\users\\eceha\\anaconda3\\lib\\site-packages (from scikit-learn>=1.3.1->mlxtend) (3.5.0)\n",
      "Requirement already satisfied: six>=1.5 in c:\\users\\eceha\\anaconda3\\lib\\site-packages (from python-dateutil>=2.7->matplotlib>=3.0.0->mlxtend) (1.16.0)\n"
     ]
    }
   ],
   "source": [
    "!pip install mlxtend "
   ]
  },
  {
   "cell_type": "code",
   "execution_count": 9,
   "id": "6d719b91-6080-4983-b580-b932d9d9ca60",
   "metadata": {},
   "outputs": [],
   "source": [
    "import numpy as np\n",
    "import pandas as pd\n",
    "import matplotlib.pyplot as plt\n",
    "# mlxtend: machine learning extensions\n",
    "# TransactionEncoder alışveriş sepeti gibi liste şeklindeki verileri [['milk', 'bread'], ['bread']] binary tabloya çevirir.\n",
    "from mlxtend.preprocessing import TransactionEncoder\n",
    "# apriori: Sık geçen ürün gruplarını (frequent itemsets) bulmak için kullanılır.\n",
    "# association_rules: Bu sık gruplardan anlamlı ilişki kuralları üretir.\n",
    "# Örneğin, {milk, bread} sık geçiyor milk->bread kuralı çıkarılabilir.\n",
    "from mlxtend.frequent_patterns import apriori, association_rules"
   ]
  },
  {
   "cell_type": "code",
   "execution_count": 12,
   "id": "9ea6b5c1-71dd-4ec8-8325-2a7eecce8d84",
   "metadata": {},
   "outputs": [],
   "source": [
    "# 1. CSV'den veriyi oku\n",
    "df = pd.read_csv(\"sepet.csv\", header=None)"
   ]
  },
  {
   "cell_type": "code",
   "execution_count": 11,
   "id": "a774349d-9ede-473c-a4c5-7eb664aa3483",
   "metadata": {},
   "outputs": [
    {
     "data": {
      "text/html": [
       "<div>\n",
       "<style scoped>\n",
       "    .dataframe tbody tr th:only-of-type {\n",
       "        vertical-align: middle;\n",
       "    }\n",
       "\n",
       "    .dataframe tbody tr th {\n",
       "        vertical-align: top;\n",
       "    }\n",
       "\n",
       "    .dataframe thead th {\n",
       "        text-align: right;\n",
       "    }\n",
       "</style>\n",
       "<table border=\"1\" class=\"dataframe\">\n",
       "  <thead>\n",
       "    <tr style=\"text-align: right;\">\n",
       "      <th></th>\n",
       "      <th>0</th>\n",
       "      <th>1</th>\n",
       "      <th>2</th>\n",
       "      <th>3</th>\n",
       "      <th>4</th>\n",
       "      <th>5</th>\n",
       "      <th>6</th>\n",
       "      <th>7</th>\n",
       "      <th>8</th>\n",
       "      <th>9</th>\n",
       "      <th>10</th>\n",
       "      <th>11</th>\n",
       "      <th>12</th>\n",
       "      <th>13</th>\n",
       "      <th>14</th>\n",
       "      <th>15</th>\n",
       "      <th>16</th>\n",
       "      <th>17</th>\n",
       "      <th>18</th>\n",
       "      <th>19</th>\n",
       "    </tr>\n",
       "  </thead>\n",
       "  <tbody>\n",
       "    <tr>\n",
       "      <th>0</th>\n",
       "      <td>shrimp</td>\n",
       "      <td>almonds</td>\n",
       "      <td>avocado</td>\n",
       "      <td>vegetables mix</td>\n",
       "      <td>green grapes</td>\n",
       "      <td>whole weat flour</td>\n",
       "      <td>yams</td>\n",
       "      <td>cottage cheese</td>\n",
       "      <td>energy drink</td>\n",
       "      <td>tomato juice</td>\n",
       "      <td>low fat yogurt</td>\n",
       "      <td>green tea</td>\n",
       "      <td>honey</td>\n",
       "      <td>salad</td>\n",
       "      <td>mineral water</td>\n",
       "      <td>salmon</td>\n",
       "      <td>antioxydant juice</td>\n",
       "      <td>frozen smoothie</td>\n",
       "      <td>spinach</td>\n",
       "      <td>olive oil</td>\n",
       "    </tr>\n",
       "    <tr>\n",
       "      <th>1</th>\n",
       "      <td>burgers</td>\n",
       "      <td>meatballs</td>\n",
       "      <td>eggs</td>\n",
       "      <td>NaN</td>\n",
       "      <td>NaN</td>\n",
       "      <td>NaN</td>\n",
       "      <td>NaN</td>\n",
       "      <td>NaN</td>\n",
       "      <td>NaN</td>\n",
       "      <td>NaN</td>\n",
       "      <td>NaN</td>\n",
       "      <td>NaN</td>\n",
       "      <td>NaN</td>\n",
       "      <td>NaN</td>\n",
       "      <td>NaN</td>\n",
       "      <td>NaN</td>\n",
       "      <td>NaN</td>\n",
       "      <td>NaN</td>\n",
       "      <td>NaN</td>\n",
       "      <td>NaN</td>\n",
       "    </tr>\n",
       "    <tr>\n",
       "      <th>2</th>\n",
       "      <td>chutney</td>\n",
       "      <td>NaN</td>\n",
       "      <td>NaN</td>\n",
       "      <td>NaN</td>\n",
       "      <td>NaN</td>\n",
       "      <td>NaN</td>\n",
       "      <td>NaN</td>\n",
       "      <td>NaN</td>\n",
       "      <td>NaN</td>\n",
       "      <td>NaN</td>\n",
       "      <td>NaN</td>\n",
       "      <td>NaN</td>\n",
       "      <td>NaN</td>\n",
       "      <td>NaN</td>\n",
       "      <td>NaN</td>\n",
       "      <td>NaN</td>\n",
       "      <td>NaN</td>\n",
       "      <td>NaN</td>\n",
       "      <td>NaN</td>\n",
       "      <td>NaN</td>\n",
       "    </tr>\n",
       "    <tr>\n",
       "      <th>3</th>\n",
       "      <td>turkey</td>\n",
       "      <td>avocado</td>\n",
       "      <td>NaN</td>\n",
       "      <td>NaN</td>\n",
       "      <td>NaN</td>\n",
       "      <td>NaN</td>\n",
       "      <td>NaN</td>\n",
       "      <td>NaN</td>\n",
       "      <td>NaN</td>\n",
       "      <td>NaN</td>\n",
       "      <td>NaN</td>\n",
       "      <td>NaN</td>\n",
       "      <td>NaN</td>\n",
       "      <td>NaN</td>\n",
       "      <td>NaN</td>\n",
       "      <td>NaN</td>\n",
       "      <td>NaN</td>\n",
       "      <td>NaN</td>\n",
       "      <td>NaN</td>\n",
       "      <td>NaN</td>\n",
       "    </tr>\n",
       "    <tr>\n",
       "      <th>4</th>\n",
       "      <td>mineral water</td>\n",
       "      <td>milk</td>\n",
       "      <td>energy bar</td>\n",
       "      <td>whole wheat rice</td>\n",
       "      <td>green tea</td>\n",
       "      <td>NaN</td>\n",
       "      <td>NaN</td>\n",
       "      <td>NaN</td>\n",
       "      <td>NaN</td>\n",
       "      <td>NaN</td>\n",
       "      <td>NaN</td>\n",
       "      <td>NaN</td>\n",
       "      <td>NaN</td>\n",
       "      <td>NaN</td>\n",
       "      <td>NaN</td>\n",
       "      <td>NaN</td>\n",
       "      <td>NaN</td>\n",
       "      <td>NaN</td>\n",
       "      <td>NaN</td>\n",
       "      <td>NaN</td>\n",
       "    </tr>\n",
       "  </tbody>\n",
       "</table>\n",
       "</div>"
      ],
      "text/plain": [
       "              0          1           2                 3             4   \\\n",
       "0         shrimp    almonds     avocado    vegetables mix  green grapes   \n",
       "1        burgers  meatballs        eggs               NaN           NaN   \n",
       "2        chutney        NaN         NaN               NaN           NaN   \n",
       "3         turkey    avocado         NaN               NaN           NaN   \n",
       "4  mineral water       milk  energy bar  whole wheat rice     green tea   \n",
       "\n",
       "                 5     6               7             8             9   \\\n",
       "0  whole weat flour  yams  cottage cheese  energy drink  tomato juice   \n",
       "1               NaN   NaN             NaN           NaN           NaN   \n",
       "2               NaN   NaN             NaN           NaN           NaN   \n",
       "3               NaN   NaN             NaN           NaN           NaN   \n",
       "4               NaN   NaN             NaN           NaN           NaN   \n",
       "\n",
       "               10         11     12     13             14      15  \\\n",
       "0  low fat yogurt  green tea  honey  salad  mineral water  salmon   \n",
       "1             NaN        NaN    NaN    NaN            NaN     NaN   \n",
       "2             NaN        NaN    NaN    NaN            NaN     NaN   \n",
       "3             NaN        NaN    NaN    NaN            NaN     NaN   \n",
       "4             NaN        NaN    NaN    NaN            NaN     NaN   \n",
       "\n",
       "                  16               17       18         19  \n",
       "0  antioxydant juice  frozen smoothie  spinach  olive oil  \n",
       "1                NaN              NaN      NaN        NaN  \n",
       "2                NaN              NaN      NaN        NaN  \n",
       "3                NaN              NaN      NaN        NaN  \n",
       "4                NaN              NaN      NaN        NaN  "
      ]
     },
     "execution_count": 11,
     "metadata": {},
     "output_type": "execute_result"
    }
   ],
   "source": [
    "df.head()"
   ]
  },
  {
   "cell_type": "code",
   "execution_count": 13,
   "id": "4b2cd86b-6fea-44fe-8783-2abb0ed430ba",
   "metadata": {},
   "outputs": [],
   "source": [
    "# 2. Transaction Listesi oluştur\n",
    "transactions = df.apply(lambda row: [item for item in row if pd.notnull(item)], axis=1).tolist()"
   ]
  },
  {
   "cell_type": "code",
   "execution_count": 14,
   "id": "bbde6b10-71bb-4751-b244-77cd7589a3ac",
   "metadata": {},
   "outputs": [],
   "source": [
    "# 3. One-hot encoding işlemi\n",
    "te = TransactionEncoder()\n",
    "te_array = te.fit(transactions).transform(transactions)\n",
    "df_trans = pd.DataFrame(te_array, olumncs=te.columns_)"
   ]
  },
  {
   "cell_type": "code",
   "execution_count": 15,
   "id": "d1ed7e70-bd4e-403b-bd39-8852811aaf89",
   "metadata": {},
   "outputs": [],
   "source": [
    "# 4. Apriori Algoritmasını uygula (min_support %2)\n",
    "frequent_itemsets = apriori(df_trans, min_support=0.02, use_colnames=True)"
   ]
  },
  {
   "cell_type": "code",
   "execution_count": 16,
   "id": "cc6b745f-5c69-4b3b-85a0-6c8a8aa58228",
   "metadata": {},
   "outputs": [],
   "source": [
    "# 5. Association Rules çıkar \n",
    "rules = association_rules(frequent_itemsets, metric=\"lift\", min_threshold=1.0) # lift"
   ]
  },
  {
   "cell_type": "code",
   "execution_count": 17,
   "id": "220b5fc1-faa4-41e1-8142-841ff4f55597",
   "metadata": {},
   "outputs": [
    {
     "name": "stdout",
     "output_type": "stream",
     "text": [
      "        antecedents     consequents   support  confidence      lift\n",
      "0            (eggs)       (burgers)  0.028796    0.160237  1.837830\n",
      "1         (burgers)          (eggs)  0.028796    0.330275  1.837830\n",
      "2         (burgers)  (french fries)  0.021997    0.252294  1.476173\n",
      "3    (french fries)       (burgers)  0.021997    0.128705  1.476173\n",
      "4   (mineral water)       (burgers)  0.024397    0.102349  1.173883\n",
      "..              ...             ...       ...         ...       ...\n",
      "89       (pancakes)     (spaghetti)  0.025197    0.265077  1.522468\n",
      "90         (shrimp)     (spaghetti)  0.021197    0.296642  1.703760\n",
      "91      (spaghetti)        (shrimp)  0.021197    0.121746  1.703760\n",
      "92       (tomatoes)     (spaghetti)  0.020931    0.306043  1.757755\n",
      "93      (spaghetti)      (tomatoes)  0.020931    0.120214  1.757755\n",
      "\n",
      "[94 rows x 5 columns]\n"
     ]
    }
   ],
   "source": [
    "# 6. Sonuçları gör\n",
    "print(rules[['antecedents','consequents','support','confidence','lift']])"
   ]
  },
  {
   "cell_type": "markdown",
   "id": "a8161477-bf79-4665-a16b-d19f1891d6ab",
   "metadata": {},
   "source": [
    "## Satır 0: (eggs) -> (burgers)\n",
    "- Support = 0.028 -> Tüm işlemlerin yaklaşık %2.8'inde hem yumurta hem burger birlikte geçiş.\n",
    "- Confidence = 0.16 -> Yumurtayı alanların %16'sı burger da almış.\n",
    "- Lift = 1.83 -> Burger alma ihtimali, yumurta varsa 1.83 kat daha fazla\n",
    "- Yorum: Bu ilişki istatistiksel olarak anlamlı ve öneri sisteminde kullanılabilir.\n",
    "## Öneri Sistemi Örneği\n",
    "- Eğer bir kullanıcı alışveriş sepetine `eggs` eklediyse, Lift değeri 1.83 olan `burgers` önerilebilir:\n",
    "- __\"Yumurtayı tercih edenler, burger de almayı seviyor. Sizin için öneriyoruz!\"__\n",
    "## Çıktı Kolonlarının Anlamı\n",
    "|Kolon |Açıklama |\n",
    "|:-----|----:|\n",
    "|`antecedents` |Koşul kısmı (Eğer bu ürün varsa...) |\n",
    "|`consequents` |Sonuç kısmı (... bu ürün de alınır) |\n",
    "|`support` |Bu iki ürün birlikte kaç işlemde var? (oran) |\n",
    "|`confidence`|Eğer antecedent varsa, consequent'in gelme olasılığı|\n",
    "|`lift`|Bu ilişki ne kadar güçlü? Tesadüften daha anlamlı mı?|\n",
    "\n",
    "## Hangi Kurallar Değerlidir?\n",
    "|Ölçüt |Ne aramalısın? |Neden?|\n",
    "|:-----|----|----:|\n",
    "|Lift |> 1.2-1.5 ve üzeri |İlişkinin gücü|\n",
    "|Confidence |> %30-40 |Güvenilir tahmin|\n",
    "|Support |> %1-2 |Anlamlı yaygınlık|\n",
    "\n",
    "# Sonuç:\n",
    "- Bu çıktılar, müşteri davranış kalıplarını anlamak ve:\n",
    "    - Öneri sistemleri oluşturmak\n",
    "    - Kampanya hedefleri belirlemek\n",
    "    - Ürün yerleşimi düzenlemek\n",
    "için kullanılabilir."
   ]
  },
  {
   "cell_type": "code",
   "execution_count": 19,
   "id": "08d2f926-3ce4-4af2-84fa-af5d8e8df664",
   "metadata": {},
   "outputs": [
    {
     "name": "stdout",
     "output_type": "stream",
     "text": [
      "            antecedents      consequents   support  confidence      lift\n",
      "1             (burgers)           (eggs)  0.028796    0.330275  1.837830\n",
      "9                (cake)  (mineral water)  0.027463    0.338816  1.421397\n",
      "11            (chicken)  (mineral water)  0.022797    0.380000  1.594172\n",
      "24          (chocolate)  (mineral water)  0.052660    0.321400  1.348332\n",
      "29        (cooking oil)  (mineral water)  0.020131    0.394256  1.653978\n",
      "51    (frozen smoothie)  (mineral water)  0.020264    0.320000  1.342461\n",
      "55  (frozen vegetables)  (mineral water)  0.035729    0.374825  1.572463\n",
      "62        (ground beef)  (mineral water)  0.040928    0.416554  1.747522\n",
      "64        (ground beef)      (spaghetti)  0.039195    0.398915  2.291162\n",
      "67     (low fat yogurt)  (mineral water)  0.023997    0.313589  1.315565\n",
      "69               (milk)  (mineral water)  0.047994    0.370370  1.553774\n",
      "73          (olive oil)  (mineral water)  0.027596    0.419028  1.757904\n",
      "75           (pancakes)  (mineral water)  0.033729    0.354839  1.488616\n",
      "77             (shrimp)  (mineral water)  0.023597    0.330224  1.385352\n",
      "79               (soup)  (mineral water)  0.023064    0.456464  1.914955\n",
      "81          (spaghetti)  (mineral water)  0.059725    0.343032  1.439085\n",
      "83           (tomatoes)  (mineral water)  0.024397    0.356725  1.496530\n",
      "85   (whole wheat rice)  (mineral water)  0.020131    0.343964  1.442993\n",
      "86          (olive oil)      (spaghetti)  0.022930    0.348178  1.999758\n",
      "92           (tomatoes)      (spaghetti)  0.020931    0.306043  1.757755\n"
     ]
    }
   ],
   "source": [
    "# 1. Anlamlı kural kriterleri belirle\n",
    "min_support = 0.02\n",
    "min_confidence = 0.3\n",
    "min_lift = 1.2\n",
    "\n",
    "# 2. Filtreleme Kriterleri\n",
    "filtered_rules = rules[\n",
    "    (rules['support'] >= 0.02)&\n",
    "    (rules['confidence'] >= 0.3)&\n",
    "    (rules['lift'] >= 1.2)\n",
    "]\n",
    "\n",
    "# Anlamlı kuralları göster\n",
    "print(filtered_rules[['antecedents', 'consequents', 'support', 'confidence', 'lift']])"
   ]
  },
  {
   "cell_type": "code",
   "execution_count": 23,
   "id": "37c3f822-d13c-4ae7-9ee1-1bfb169857f6",
   "metadata": {},
   "outputs": [
    {
     "name": "stdout",
     "output_type": "stream",
     "text": [
      "      antecedents      consequents   support  confidence      lift\n",
      "64  (ground beef)      (spaghetti)  0.039195    0.398915  2.291162\n",
      "86    (olive oil)      (spaghetti)  0.022930    0.348178  1.999758\n",
      "79         (soup)  (mineral water)  0.023064    0.456464  1.914955\n",
      "1       (burgers)           (eggs)  0.028796    0.330275  1.837830\n",
      "73    (olive oil)  (mineral water)  0.027596    0.419028  1.757904\n"
     ]
    }
   ],
   "source": [
    "# En anlamlı ilk 5 kuralı getir\n",
    "top_rules = filtered_rules.sort_values(by = 'lift', ascending=False).head(5)\n",
    "print(top_rules[['antecedents','consequents','support','confidence','lift']])"
   ]
  },
  {
   "cell_type": "code",
   "execution_count": 1,
   "id": "93f18c4e-b769-41ce-8163-f433e9b76908",
   "metadata": {},
   "outputs": [
    {
     "ename": "NameError",
     "evalue": "name 'filtered_rules' is not defined",
     "output_type": "error",
     "traceback": [
      "\u001b[1;31m---------------------------------------------------------------------------\u001b[0m",
      "\u001b[1;31mNameError\u001b[0m                                 Traceback (most recent call last)",
      "Cell \u001b[1;32mIn[1], line 1\u001b[0m\n\u001b[1;32m----> 1\u001b[0m filtered_rules\u001b[38;5;241m.\u001b[39mto_csv(\u001b[38;5;124m\"\u001b[39m\u001b[38;5;124manlamli_kurallar.csv\u001b[39m\u001b[38;5;124m\"\u001b[39m, index\u001b[38;5;241m=\u001b[39m\u001b[38;5;28;01mFalse\u001b[39;00m)\n",
      "\u001b[1;31mNameError\u001b[0m: name 'filtered_rules' is not defined"
     ]
    }
   ],
   "source": [
    "filtered_rules.to_csv(\"anlamli_kurallar.csv\", index=False)\n",
    "# CSV dosyaları belli süre aralığında çekilmeli."
   ]
  },
  {
   "cell_type": "code",
   "execution_count": null,
   "id": "1da55fa7-e136-4bd8-b81a-9a974ad4c475",
   "metadata": {},
   "outputs": [],
   "source": []
  }
 ],
 "metadata": {
  "kernelspec": {
   "display_name": "Python 3 (ipykernel)",
   "language": "python",
   "name": "python3"
  },
  "language_info": {
   "codemirror_mode": {
    "name": "ipython",
    "version": 3
   },
   "file_extension": ".py",
   "mimetype": "text/x-python",
   "name": "python",
   "nbconvert_exporter": "python",
   "pygments_lexer": "ipython3",
   "version": "3.12.7"
  }
 },
 "nbformat": 4,
 "nbformat_minor": 5
}
