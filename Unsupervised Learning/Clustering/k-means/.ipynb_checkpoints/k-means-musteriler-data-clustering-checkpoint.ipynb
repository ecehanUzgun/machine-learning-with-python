{
 "cells": [
  {
   "cell_type": "markdown",
   "id": "d88add6c-7205-47e7-b606-c2618300d4da",
   "metadata": {},
   "source": [
    "## Hacim ve Maaş Bilgilerine Göre Kümeleme Algoritması\n",
    "- __Projenin Amacı: Farklı müşteri gruplarını (segmentlerini) ortaya çıkarmak ve her grubun alışkanlıklarını, potansiyelini veya değerini anlamak.__\n",
    "### Merkezlerin Sabit Kalması Ne Demektir?\n",
    "K-Means şu iki adımı tekrarlar:\n",
    "1. Veri noktalarını en yakın merkezlere ata\n",
    "2. Her küme için yeni merkezleri hesapla (centroid = ortalama)\n",
    "- Her tekrar sonunda yeni merkezler hesaplanır. \"merkezler sabit kalana kadar\" demek:\n",
    "- Yeni hesaplanan merkezler, bir önceki iterasyondaki merkezlerle aynı veya yeterince yakın olduğunda (değişim çok küçükse) algoritma durur.\n",
    "- __Nasıl Karar Verilir?__\n",
    "    - Scikit-learn gibi kütüphanelerde bu kontrol otomatik yapılır:\n",
    "    1. Merkezlerin değişimi kontrol edilir:\n",
    "    - Her yeni iterasyonda eski ve yeni merkezlerin arasındaki mesafe (Öklid Mesafesi) hesaplanır.\n",
    "    - Eğer bu mesafe, tol (tolerans) parametresinden küçükse (varsayılan 1e-4), merkez değişmemiş kabul edilir.\n",
    "    2. Maksimum iterasyon sınırına (max_iter) ulaşıldıysa:\n",
    "    - Model hala yakınsamamış olsa bile algoritma durur (örneğin max_iter=300).\n",
    "- Bu durumda algoritma \"yakınsadığını\"  kabul eder ve döngüden çıkar.\n",
    "    - Böylece boş yere tekrar yapılmaz.\n",
    "    - Zaman kazandırır.\n",
    "    - Sonuçlar genelde yeterince iyi olur (küresel min. garantisi yoktur, yerel min. olabilir.)\n",
    "\n",
    "|Parametre |Açıklama |\n",
    "|:-----|----:|\n",
    "|`tol` |Yakınsama için eşik değeri (default: `1e-4`) |\n",
    "|`max_iter` |Maksimum iterasyon sayısı (default: `300`) |\n",
    "|`n_init` |Farklı başlangıçlar denenerek en iyisi seçilsin mi? (default:10) |"
   ]
  },
  {
   "cell_type": "code",
   "execution_count": 1,
   "id": "cb112d46-ea39-4661-b2f9-33a4f08989f7",
   "metadata": {},
   "outputs": [],
   "source": [
    "import numpy as np\n",
    "import pandas as pd\n",
    "import matplotlib.pyplot as plt\n",
    "from mpl_toolkits.mplot3d import Axes3D\n",
    "import os"
   ]
  },
  {
   "cell_type": "code",
   "execution_count": 2,
   "id": "c53f5f19-5c3a-43e7-aa75-42c2593aae40",
   "metadata": {},
   "outputs": [],
   "source": [
    "veriler = pd.read_csv('musteriler.csv')"
   ]
  },
  {
   "cell_type": "code",
   "execution_count": 3,
   "id": "25289e0d-6bb0-4f74-8ea0-02a790597028",
   "metadata": {},
   "outputs": [
    {
     "data": {
      "text/html": [
       "<div>\n",
       "<style scoped>\n",
       "    .dataframe tbody tr th:only-of-type {\n",
       "        vertical-align: middle;\n",
       "    }\n",
       "\n",
       "    .dataframe tbody tr th {\n",
       "        vertical-align: top;\n",
       "    }\n",
       "\n",
       "    .dataframe thead th {\n",
       "        text-align: right;\n",
       "    }\n",
       "</style>\n",
       "<table border=\"1\" class=\"dataframe\">\n",
       "  <thead>\n",
       "    <tr style=\"text-align: right;\">\n",
       "      <th></th>\n",
       "      <th>No</th>\n",
       "      <th>Cinsiyet</th>\n",
       "      <th>Yas</th>\n",
       "      <th>Hacim</th>\n",
       "      <th>Maas</th>\n",
       "    </tr>\n",
       "  </thead>\n",
       "  <tbody>\n",
       "    <tr>\n",
       "      <th>0</th>\n",
       "      <td>1</td>\n",
       "      <td>K</td>\n",
       "      <td>60</td>\n",
       "      <td>69900</td>\n",
       "      <td>6325</td>\n",
       "    </tr>\n",
       "    <tr>\n",
       "      <th>1</th>\n",
       "      <td>2</td>\n",
       "      <td>K</td>\n",
       "      <td>30</td>\n",
       "      <td>79000</td>\n",
       "      <td>5200</td>\n",
       "    </tr>\n",
       "    <tr>\n",
       "      <th>2</th>\n",
       "      <td>3</td>\n",
       "      <td>E</td>\n",
       "      <td>52</td>\n",
       "      <td>85500</td>\n",
       "      <td>7825</td>\n",
       "    </tr>\n",
       "    <tr>\n",
       "      <th>3</th>\n",
       "      <td>4</td>\n",
       "      <td>E</td>\n",
       "      <td>57</td>\n",
       "      <td>17100</td>\n",
       "      <td>8375</td>\n",
       "    </tr>\n",
       "    <tr>\n",
       "      <th>4</th>\n",
       "      <td>5</td>\n",
       "      <td>E</td>\n",
       "      <td>55</td>\n",
       "      <td>5500</td>\n",
       "      <td>5450</td>\n",
       "    </tr>\n",
       "  </tbody>\n",
       "</table>\n",
       "</div>"
      ],
      "text/plain": [
       "   No Cinsiyet  Yas  Hacim  Maas\n",
       "0   1        K   60  69900  6325\n",
       "1   2        K   30  79000  5200\n",
       "2   3        E   52  85500  7825\n",
       "3   4        E   57  17100  8375\n",
       "4   5        E   55   5500  5450"
      ]
     },
     "execution_count": 3,
     "metadata": {},
     "output_type": "execute_result"
    }
   ],
   "source": [
    "veriler.head()"
   ]
  },
  {
   "cell_type": "code",
   "execution_count": 4,
   "id": "34b26106-e9fe-467a-863a-67d02cab8b04",
   "metadata": {},
   "outputs": [],
   "source": [
    "X = veriler.iloc[:,3:].values # k-means algoritması yalnızca sayısal değişkenlerle çalışabilir."
   ]
  },
  {
   "cell_type": "code",
   "execution_count": 5,
   "id": "8f59ddad-407b-432b-b36a-00c10825d4e2",
   "metadata": {},
   "outputs": [],
   "source": [
    "# UserWarning: KMeans is known to have a memory leak on Windows with MKL... -> Uyarısını çözmek için:\n",
    "import os \n",
    "os.environ[\"OMP_NUM_THREADS\"] = \"1\" # Yalnızca 1 iş parçacığı kullanılır ve sorun önlenmiş olur."
   ]
  },
  {
   "cell_type": "code",
   "execution_count": 6,
   "id": "08b55241-73db-403e-994c-eb6c867cacd5",
   "metadata": {},
   "outputs": [
    {
     "name": "stdout",
     "output_type": "stream",
     "text": [
      "        Hacim Ortalaması  Maas Ortalaması\n",
      "Küme 0      65391.549296      6175.704225\n",
      "Küme 1      24208.421053      5267.631579\n",
      "Küme 2     111220.588235      7411.029412\n"
     ]
    }
   ],
   "source": [
    "from sklearn.cluster import KMeans # sklearn.cluster modülünden KMeans sınıfını içe aktarıyoruz.\n",
    "# Modeli Eğit\n",
    "# KMeans nesnesi oluşturuluyor.\n",
    "# n_clusters=3 -> Veriyi 3 kümeye (cluster) ayırmak istediğimizi belirtir. Bu, K değeridir.\n",
    "# init='k-means++' -> Merkezlerin (centroid) başlangıçta daha akıllıca (dağıtılmış) seçilmesini sağlar. \n",
    "# Bu yöntem, rastgele başlatmaya göre daha kararlı sonuçlar verir ve daha hızlı yakınsar.\n",
    "kmeans = KMeans(n_clusters= 3, init = 'k-means++') #init:{'k-means++','random'}\n",
    "kmeans.fit(X) # fit() fonksiyonu, K-Means algoritmasını çalıştırır.\n",
    "# 1. 3 merkezi başlatır (init='k-means++')\n",
    "# 2. Her veri noktasını en yakın merkeze atar\n",
    "# 3. Yeni merkezleri hesaplar\n",
    "# 4. Bu işlemi merkezler sabit kalana kadar iteratif olarak tekrarlar.\n",
    "\n",
    "# Cluster Merkezlerini Al\n",
    "merkezler = kmeans.cluster_centers_  # Eğitilmiş modelin sonunda oluşan küme merkezlerini (centroid) verir.\n",
    "\n",
    "sutun_adları = veriler.columns[3:] # ['Hacim','Maas']\n",
    "\n",
    "# DataFrame\n",
    "cluster_df = pd.DataFrame(\n",
    "    merkezler,\n",
    "    columns=[f'{sutun} Ortalaması' for sutun in sutun_adları],\n",
    "    index = [f'Küme {i}' for i in range(len(merkezler))]\n",
    ")\n",
    "\n",
    "# Yazdır\n",
    "print(cluster_df)"
   ]
  },
  {
   "cell_type": "markdown",
   "id": "84dd67de-d8fb-4b5b-9ea1-492d55330a4e",
   "metadata": {},
   "source": [
    "|Küme |Hacim Ortalaması | Maaş Ortalaması | Yorum |\n",
    "|:-----|:----:|:----:|----:|\n",
    "|0 |~58.643 TL|~5.845 TL|Orta harcama - orta gelirli segment|\n",
    "|1 |~104.387 TL|~7.289 TL|Yüksek harcama - yüksek gelirli (muhtemelen VIP müşteriler)|\n",
    "|2|~22.069 TL|~5.321 TL|Düşük harcama - düşük gelirli segment|\n",
    "\n",
    "- Hacim: Toplamda yaptığı alışveriş tutarı\n",
    "- Veri etiketlenmemiş olsa bile (denetimsiz öğrenme), anlamlı müşteri grupları oluşturabilirsin.\n",
    "- Her bir grup (küme), bir pazarlama stratejisine temel oluşturabilir:\n",
    "- Küme 0 → Dengede tutulmalı.\n",
    "- Küme 1 → Kampanya değil, sadakat programı!\n",
    "- Küme 2 → Teşvik / indirim / ilk alışveriş avantajı!\n"
   ]
  },
  {
   "cell_type": "markdown",
   "id": "49cba181-d525-42e6-9f7b-f0a585e31b06",
   "metadata": {},
   "source": [
    "## Elbow Yöntemi (Dirsek Yöntemi)\n",
    "- En uygun K (küme sayısı)\n",
    "- Dirsek (elbow) noktasında eğrinin eğimi keskin şekilde yavaşlar.\n",
    "- Bu nokta, optimum küme sayısıdır (ideal K) çünkü ondan sonra inertia düşüşü çok az olur.\n",
    "|Amaç |Açıklama |\n",
    "|:-----|----:|\n",
    "|En iyi K değerini bulmak |Elbow yöntemiyle inertia değerlerini karşılaştır.|\n",
    "|Neden önemli? |Fazla küme -> overfitting, az küme -> underfitting |\n",
    "\n",
    "## Inertia Nedir?\n",
    "Inertia, her bir veri noktasının ait olduğu küme merkezine olan uzaklığının karesinin toplamıdır.\n",
    "Inertia değeri, kümelerin ne kadar sıkı (compact) olduğunu gösterir.\n",
    "|Inertia Değeri |Anlamı |\n",
    "|:-----|----:|\n",
    "|Düşük |Veriler kümelere yakın -> iyi kümelenmiş |\n",
    "|Yüksek |Veriler küme merkezlerinden uzak -> kötü kümelenmiş |\n",
    "\n",
    "## K Değeri Arttıkça Ne Olur?\n",
    "- `K` (küme sayısı) arttıkça inertia azalır, çünkü kümeler küçülür ve merkezler daha yakın yerleştirilir.\n",
    "- Ancak `K` çok artarsa overfitting (aşırı öğrenme) olur. Her veri kendi kümesini oluşturur -> bu da modelin genellenebilirliğini bozar.\n",
    "- Bu yüzden: Elbow (dirsek) yöntemi ile inertia'nın düşüş hızının yavaşladığı noktayı buluruz -> bu nokta ideal K değeridir."
   ]
  },
  {
   "cell_type": "code",
   "execution_count": 7,
   "id": "e3da836b-4d18-4788-95e3-3ea1f999f35c",
   "metadata": {},
   "outputs": [
    {
     "name": "stdout",
     "output_type": "stream",
     "text": [
      "[242389902746.875, 69083288306.74911, 37427316783.60773, 19714454147.64823, 12888299823.99516, 8631933632.939518, 6875375159.030952, 5252793067.744504, 4364061882.760295, 3423515070.245521]\n"
     ]
    },
    {
     "data": {
      "text/plain": [
       "[<matplotlib.lines.Line2D at 0x24a6168f830>]"
      ]
     },
     "execution_count": 7,
     "metadata": {},
     "output_type": "execute_result"
    },
    {
     "data": {
      "image/png": "[encoded data removed]",
      "text/plain": [
       "<Figure size 640x480 with 1 Axes>"
      ]
     },
     "metadata": {},
     "output_type": "display_data"
    }
   ],
   "source": [
    "sonuclar = []\n",
    "for i in range(1,11): # 10 farklı kümeleme modeli oluşturulur\n",
    "    kmeans = KMeans(n_clusters = i, init='k-means++', random_state=123) # random_state=123 -> rastgelelik kontrol altında tutuluyor,123(değiştirilebilir)\n",
    "    kmeans.fit(X)\n",
    "    sonuclar.append(kmeans.inertia_) # inertia_-> Her veri noktasının ait olduğu küme merkezine olan uzaklıklarının kareleri toplamıdır. \n",
    "    # Daha düşük inertia daha sık kümeler demektir.\n",
    "print(sonuclar)\n",
    "\n",
    "plt.plot(range(1,11),sonuclar)"
   ]
  },
  {
   "cell_type": "markdown",
   "id": "19477727-582e-4766-a82e-d696bb548e31",
   "metadata": {},
   "source": [
    "- Inertia: Veri noktalarının küme merkezine yakınlığını ölçer.\n",
    "- Amaç: Inertia düşük ama küme sayısı min. olacak şekilde ideal K'yi bulmak."
   ]
  },
  {
   "cell_type": "markdown",
   "id": "1c466c18-45ec-40a1-992a-1bf6605cab8f",
   "metadata": {},
   "source": [
    "C:\\Users\\eceha\\anaconda3\\Lib\\site-packages\\sklearn\\cluster\\_kmeans.py:1429: UserWarning: KMeans is known to have a memory leak on Windows with MKL, when there are less chunks than available threads. You can avoid it by setting the environment variable OMP_NUM_THREADS=1.\n",
    "  warnings.warn(\n",
    "\n",
    "- Uyarının Anlamı:\n",
    "    - KMeans algoritması, Windows işletim sistemi üzerinde çalışırken ve MKL (Intel Math Kernel Library) kullanıldığında, bazı durumlarda hafıza sızıntısı (memory leak) oluşabilir.\n",
    "    - Bu durum, özellikle iş parçacığı (thread) sayısı, veri bloklarından fazla olduğunda ortaya çıkar.\n",
    "    - Yani CPU’n fazla çekirdekli ve veri azsa, bu performans sorunu yaşanabilir.\n",
    "\n",
    "ÇÖZÜM: \n",
    "- `import os`\n",
    "- `os.environ[\"OMP_NUM_THREADS\"] = \"1\"`\n",
    "- Bu satır:\n",
    "- OMP_NUM_THREADS isimli çevresel değişkeni 1'e ayarlar,\n",
    "- Böylece yalnızca 1 iş parçacığı kullanılır ve sorun önlenmiş olur."
   ]
  },
  {
   "cell_type": "code",
   "execution_count": null,
   "id": "4e1fe936-8524-4b37-9549-ea075994996d",
   "metadata": {},
   "outputs": [],
   "source": []
  },
  {
   "cell_type": "code",
   "execution_count": null,
   "id": "c98d1382-581f-444d-9126-822e09bbd2e1",
   "metadata": {},
   "outputs": [],
   "source": []
  }
 ],
 "metadata": {
  "kernelspec": {
   "display_name": "Python 3 (ipykernel)",
   "language": "python",
   "name": "python3"
  },
  "language_info": {
   "codemirror_mode": {
    "name": "ipython",
    "version": 3
   },
   "file_extension": ".py",
   "mimetype": "text/x-python",
   "name": "python",
   "nbconvert_exporter": "python",
   "pygments_lexer": "ipython3",
   "version": "3.12.7"
  }
 },
 "nbformat": 4,
 "nbformat_minor": 5
}
